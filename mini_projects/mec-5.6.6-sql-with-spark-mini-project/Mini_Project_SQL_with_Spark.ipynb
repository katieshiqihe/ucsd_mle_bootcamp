{
 "cells": [
  {
   "cell_type": "markdown",
   "metadata": {
    "application/vnd.databricks.v1+cell": {
     "inputWidgets": {},
     "nuid": "df349695-fd2d-4b02-aaea-2d019a3a5136",
     "showTitle": false,
     "title": ""
    }
   },
   "source": [
    "## SQL at Scale with Spark SQL\n",
    "\n",
    "Welcome to the SQL mini project. For this project, you will use the Databricks Platform and work through a series of exercises using Spark SQL. The dataset size may not be too big but the intent here is to familiarize yourself with the Spark SQL interface which scales easily to huge datasets, without you having to worry about changing your SQL queries. \n",
    "\n",
    "The data you need is present in the mini-project folder in the form of three CSV files. This data will be imported in Databricks to create the following tables under the __`country_club`__ database.\n",
    "\n",
    "<br>\n",
    "1. The __`bookings`__ table,\n",
    "2. The __`facilities`__ table, and\n",
    "3. The __`members`__ table.\n",
    "\n",
    "You will be uploading these datasets shortly into the Databricks platform to understand how to create a database within minutes! Once the database and the tables are populated, you will be focusing on the mini-project questions.\n",
    "\n",
    "In the mini project, you'll be asked a series of questions. You can solve them using the databricks platform, but for the final deliverable,\n",
    "please download this notebook as an IPython notebook (__`File -> Export -> IPython Notebook`__) and upload it to your GitHub."
   ]
  },
  {
   "cell_type": "markdown",
   "metadata": {
    "application/vnd.databricks.v1+cell": {
     "inputWidgets": {},
     "nuid": "299e3ee9-ebd3-4bea-8f87-8af178cd4bf4",
     "showTitle": false,
     "title": ""
    }
   },
   "source": [
    "### Creating the Database\n",
    "\n",
    "We will first create our database in which we will be creating our three tables of interest"
   ]
  },
  {
   "cell_type": "code",
   "execution_count": 0,
   "metadata": {
    "application/vnd.databricks.v1+cell": {
     "inputWidgets": {},
     "nuid": "e349a725-5be6-4001-886a-7d53c02f503a",
     "showTitle": false,
     "title": ""
    }
   },
   "outputs": [
    {
     "data": {
      "text/html": [
       "<style scoped>\n",
       "  .table-result-container {\n",
       "    max-height: 300px;\n",
       "    overflow: auto;\n",
       "  }\n",
       "  table, th, td {\n",
       "    border: 1px solid black;\n",
       "    border-collapse: collapse;\n",
       "  }\n",
       "  th, td {\n",
       "    padding: 5px;\n",
       "  }\n",
       "  th {\n",
       "    text-align: left;\n",
       "  }\n",
       "</style><div class='table-result-container'><table class='table-result'><thead style='background-color: white'><tr><th>namespace</th></tr></thead><tbody><tr><td>country_club</td></tr><tr><td>default</td></tr></tbody></table></div>"
      ]
     },
     "metadata": {
      "application/vnd.databricks.v1+output": {
       "addedWidgets": {},
       "aggData": [],
       "aggError": "",
       "aggOverflow": false,
       "aggSchema": [],
       "aggSeriesLimitReached": false,
       "aggType": "",
       "arguments": {},
       "columnCustomDisplayInfos": {},
       "data": [
        [
         "country_club"
        ],
        [
         "default"
        ]
       ],
       "datasetInfos": [],
       "dbfsResultPath": null,
       "isJsonSchema": true,
       "overflow": false,
       "plotOptions": {
        "customPlotOptions": {},
        "displayType": "table",
        "pivotAggregation": null,
        "pivotColumns": [],
        "xColumns": [],
        "yColumns": []
       },
       "removedWidgets": [],
       "schema": [
        {
         "metadata": "{}",
         "name": "namespace",
         "type": "\"string\""
        }
       ],
       "type": "table"
      }
     },
     "output_type": "display_data"
    }
   ],
   "source": [
    "%sql \n",
    "drop database if exists country_club cascade;\n",
    "create database country_club;\n",
    "show databases;"
   ]
  },
  {
   "cell_type": "markdown",
   "metadata": {
    "application/vnd.databricks.v1+cell": {
     "inputWidgets": {},
     "nuid": "22e783bb-3035-4698-8bb9-0b32833b389b",
     "showTitle": false,
     "title": ""
    }
   },
   "source": [
    "### Creating the Tables\n",
    "\n",
    "In this section, we will be creating the three tables of interest and populate them with the data from the CSV files already available to you. \n",
    "To get started, first upload the three CSV files to the DBFS as depicted in the following figure\n",
    "\n",
    "![](https://i.imgur.com/QcCruBr.png)\n",
    "\n",
    "\n",
    "Once you have done this, please remember to execute the following code to build the dataframes which will be saved as tables in our database"
   ]
  },
  {
   "cell_type": "code",
   "execution_count": 0,
   "metadata": {
    "application/vnd.databricks.v1+cell": {
     "inputWidgets": {},
     "nuid": "8c7d404f-21bd-404d-85ce-fe886c794976",
     "showTitle": false,
     "title": ""
    }
   },
   "outputs": [
    {
     "data": {
      "text/html": [
       "<style scoped>\n",
       "  .ansiout {\n",
       "    display: block;\n",
       "    unicode-bidi: embed;\n",
       "    white-space: pre-wrap;\n",
       "    word-wrap: break-word;\n",
       "    word-break: break-all;\n",
       "    font-family: \"Source Code Pro\", \"Menlo\", monospace;;\n",
       "    font-size: 13px;\n",
       "    color: #555;\n",
       "    margin-left: 4px;\n",
       "    line-height: 19px;\n",
       "  }\n",
       "</style>\n",
       "<div class=\"ansiout\"></div>"
      ]
     },
     "metadata": {
      "application/vnd.databricks.v1+output": {
       "addedWidgets": {},
       "arguments": {},
       "data": "<div class=\"ansiout\"></div>",
       "datasetInfos": [],
       "removedWidgets": [],
       "type": "html"
      }
     },
     "output_type": "display_data"
    }
   ],
   "source": [
    "# File location and type\n",
    "file_location_bookings = \"/FileStore/tables/Bookings.csv\"\n",
    "file_location_facilities = \"/FileStore/tables/Facilities.csv\"\n",
    "file_location_members = \"/FileStore/tables/Members.csv\"\n",
    "\n",
    "file_type = \"csv\"\n",
    "\n",
    "# CSV options\n",
    "infer_schema = \"true\"\n",
    "first_row_is_header = \"true\"\n",
    "delimiter = \",\"\n",
    "\n",
    "# The applied options are for CSV files. For other file types, these will be ignored.\n",
    "bookings_df = (spark.read.format(file_type) \n",
    "                    .option(\"inferSchema\", infer_schema) \n",
    "                    .option(\"header\", first_row_is_header) \n",
    "                    .option(\"sep\", delimiter) \n",
    "                    .load(file_location_bookings))\n",
    "\n",
    "facilities_df = (spark.read.format(file_type) \n",
    "                      .option(\"inferSchema\", infer_schema) \n",
    "                      .option(\"header\", first_row_is_header) \n",
    "                      .option(\"sep\", delimiter) \n",
    "                      .load(file_location_facilities))\n",
    "\n",
    "members_df = (spark.read.format(file_type) \n",
    "                      .option(\"inferSchema\", infer_schema) \n",
    "                      .option(\"header\", first_row_is_header) \n",
    "                      .option(\"sep\", delimiter) \n",
    "                      .load(file_location_members))"
   ]
  },
  {
   "cell_type": "markdown",
   "metadata": {
    "application/vnd.databricks.v1+cell": {
     "inputWidgets": {},
     "nuid": "5c5a1889-cf73-4fc0-8625-5202b4d1a6ff",
     "showTitle": false,
     "title": ""
    }
   },
   "source": [
    "### Viewing the dataframe schemas\n",
    "\n",
    "We can take a look at the schemas of our potential tables to be written to our database soon"
   ]
  },
  {
   "cell_type": "code",
   "execution_count": 0,
   "metadata": {
    "application/vnd.databricks.v1+cell": {
     "inputWidgets": {},
     "nuid": "4cc0f3e1-46ad-4a4e-9535-c7689efdc9d3",
     "showTitle": false,
     "title": ""
    }
   },
   "outputs": [
    {
     "data": {
      "text/html": [
       "<style scoped>\n",
       "  .ansiout {\n",
       "    display: block;\n",
       "    unicode-bidi: embed;\n",
       "    white-space: pre-wrap;\n",
       "    word-wrap: break-word;\n",
       "    word-break: break-all;\n",
       "    font-family: \"Source Code Pro\", \"Menlo\", monospace;;\n",
       "    font-size: 13px;\n",
       "    color: #555;\n",
       "    margin-left: 4px;\n",
       "    line-height: 19px;\n",
       "  }\n",
       "</style>\n",
       "<div class=\"ansiout\">Bookings Schema\n",
       "root\n",
       "-- bookid: integer (nullable = true)\n",
       "-- facid: integer (nullable = true)\n",
       "-- memid: integer (nullable = true)\n",
       "-- starttime: string (nullable = true)\n",
       "-- slots: integer (nullable = true)\n",
       "\n",
       "Facilities Schema\n",
       "root\n",
       "-- facid: integer (nullable = true)\n",
       "-- name: string (nullable = true)\n",
       "-- membercost: double (nullable = true)\n",
       "-- guestcost: double (nullable = true)\n",
       "-- initialoutlay: integer (nullable = true)\n",
       "-- monthlymaintenance: integer (nullable = true)\n",
       "\n",
       "Members Schema\n",
       "root\n",
       "-- memid: integer (nullable = true)\n",
       "-- surname: string (nullable = true)\n",
       "-- firstname: string (nullable = true)\n",
       "-- address: string (nullable = true)\n",
       "-- zipcode: integer (nullable = true)\n",
       "-- telephone: string (nullable = true)\n",
       "-- recommendedby: integer (nullable = true)\n",
       "-- joindate: string (nullable = true)\n",
       "\n",
       "</div>"
      ]
     },
     "metadata": {
      "application/vnd.databricks.v1+output": {
       "addedWidgets": {},
       "arguments": {},
       "data": "<div class=\"ansiout\">Bookings Schema\nroot\n |-- bookid: integer (nullable = true)\n |-- facid: integer (nullable = true)\n |-- memid: integer (nullable = true)\n |-- starttime: string (nullable = true)\n |-- slots: integer (nullable = true)\n\nFacilities Schema\nroot\n |-- facid: integer (nullable = true)\n |-- name: string (nullable = true)\n |-- membercost: double (nullable = true)\n |-- guestcost: double (nullable = true)\n |-- initialoutlay: integer (nullable = true)\n |-- monthlymaintenance: integer (nullable = true)\n\nMembers Schema\nroot\n |-- memid: integer (nullable = true)\n |-- surname: string (nullable = true)\n |-- firstname: string (nullable = true)\n |-- address: string (nullable = true)\n |-- zipcode: integer (nullable = true)\n |-- telephone: string (nullable = true)\n |-- recommendedby: integer (nullable = true)\n |-- joindate: string (nullable = true)\n\n</div>",
       "datasetInfos": [],
       "removedWidgets": [],
       "type": "html"
      }
     },
     "output_type": "display_data"
    }
   ],
   "source": [
    "print('Bookings Schema')\n",
    "bookings_df.printSchema()\n",
    "print('Facilities Schema')\n",
    "facilities_df.printSchema()\n",
    "print('Members Schema')\n",
    "members_df.printSchema()"
   ]
  },
  {
   "cell_type": "markdown",
   "metadata": {
    "application/vnd.databricks.v1+cell": {
     "inputWidgets": {},
     "nuid": "ff4403e8-ec9c-4ad4-b59b-10c2b9cc1de2",
     "showTitle": false,
     "title": ""
    }
   },
   "source": [
    "### Create permanent tables\n",
    "We will be creating three permanent tables here in our __`country_club`__ database as we discussed previously with the following code"
   ]
  },
  {
   "cell_type": "code",
   "execution_count": 0,
   "metadata": {
    "application/vnd.databricks.v1+cell": {
     "inputWidgets": {},
     "nuid": "2fcc7ed9-2c16-483e-ba79-434a7077be85",
     "showTitle": false,
     "title": ""
    }
   },
   "outputs": [
    {
     "data": {
      "text/html": [
       "<style scoped>\n",
       "  .ansiout {\n",
       "    display: block;\n",
       "    unicode-bidi: embed;\n",
       "    white-space: pre-wrap;\n",
       "    word-wrap: break-word;\n",
       "    word-break: break-all;\n",
       "    font-family: \"Source Code Pro\", \"Menlo\", monospace;;\n",
       "    font-size: 13px;\n",
       "    color: #555;\n",
       "    margin-left: 4px;\n",
       "    line-height: 19px;\n",
       "  }\n",
       "</style>\n",
       "<div class=\"ansiout\"></div>"
      ]
     },
     "metadata": {
      "application/vnd.databricks.v1+output": {
       "addedWidgets": {},
       "arguments": {},
       "data": "<div class=\"ansiout\"></div>",
       "datasetInfos": [],
       "removedWidgets": [],
       "type": "html"
      }
     },
     "output_type": "display_data"
    }
   ],
   "source": [
    "permanent_table_name_bookings = \"country_club.Bookings\"\n",
    "bookings_df.write.format(\"parquet\").saveAsTable(permanent_table_name_bookings)\n",
    "\n",
    "permanent_table_name_facilities = \"country_club.Facilities\"\n",
    "facilities_df.write.format(\"parquet\").saveAsTable(permanent_table_name_facilities)\n",
    "\n",
    "permanent_table_name_members = \"country_club.Members\"\n",
    "members_df.write.format(\"parquet\").saveAsTable(permanent_table_name_members)"
   ]
  },
  {
   "cell_type": "markdown",
   "metadata": {
    "application/vnd.databricks.v1+cell": {
     "inputWidgets": {},
     "nuid": "3e5e0742-34fe-451c-8e38-6439f1606d8a",
     "showTitle": false,
     "title": ""
    }
   },
   "source": [
    "### Refresh tables and check them"
   ]
  },
  {
   "cell_type": "code",
   "execution_count": 0,
   "metadata": {
    "application/vnd.databricks.v1+cell": {
     "inputWidgets": {},
     "nuid": "85d817b4-8d33-405c-b9e3-afa779492430",
     "showTitle": false,
     "title": ""
    }
   },
   "outputs": [
    {
     "data": {
      "text/html": [
       "<style scoped>\n",
       "  .table-result-container {\n",
       "    max-height: 300px;\n",
       "    overflow: auto;\n",
       "  }\n",
       "  table, th, td {\n",
       "    border: 1px solid black;\n",
       "    border-collapse: collapse;\n",
       "  }\n",
       "  th, td {\n",
       "    padding: 5px;\n",
       "  }\n",
       "  th {\n",
       "    text-align: left;\n",
       "  }\n",
       "</style><div class='table-result-container'><table class='table-result'><thead style='background-color: white'><tr><th>database</th><th>tableName</th><th>isTemporary</th></tr></thead><tbody><tr><td>country_club</td><td>bookings</td><td>false</td></tr><tr><td>country_club</td><td>facilities</td><td>false</td></tr><tr><td>country_club</td><td>members</td><td>false</td></tr></tbody></table></div>"
      ]
     },
     "metadata": {
      "application/vnd.databricks.v1+output": {
       "addedWidgets": {},
       "aggData": [],
       "aggError": "",
       "aggOverflow": false,
       "aggSchema": [],
       "aggSeriesLimitReached": false,
       "aggType": "",
       "arguments": {},
       "columnCustomDisplayInfos": {},
       "data": [
        [
         "country_club",
         "bookings",
         false
        ],
        [
         "country_club",
         "facilities",
         false
        ],
        [
         "country_club",
         "members",
         false
        ]
       ],
       "datasetInfos": [],
       "dbfsResultPath": null,
       "isJsonSchema": true,
       "overflow": false,
       "plotOptions": {
        "customPlotOptions": {},
        "displayType": "table",
        "pivotAggregation": null,
        "pivotColumns": [],
        "xColumns": [],
        "yColumns": []
       },
       "removedWidgets": [],
       "schema": [
        {
         "metadata": "{}",
         "name": "database",
         "type": "\"string\""
        },
        {
         "metadata": "{}",
         "name": "tableName",
         "type": "\"string\""
        },
        {
         "metadata": "{}",
         "name": "isTemporary",
         "type": "\"boolean\""
        }
       ],
       "type": "table"
      }
     },
     "output_type": "display_data"
    }
   ],
   "source": [
    "%sql\n",
    "use country_club;\n",
    "REFRESH table bookings;\n",
    "REFRESH table facilities;\n",
    "REFRESH table members;\n",
    "show tables;"
   ]
  },
  {
   "cell_type": "markdown",
   "metadata": {
    "application/vnd.databricks.v1+cell": {
     "inputWidgets": {},
     "nuid": "4d9318c3-1230-4156-b594-ee2b47389c3e",
     "showTitle": false,
     "title": ""
    }
   },
   "source": [
    "### Test a sample SQL query\n",
    "\n",
    "__Note:__ You can use __`%sql`__ at the beginning of a cell and write SQL queries directly as seen in the following cell. Neat isn't it!"
   ]
  },
  {
   "cell_type": "code",
   "execution_count": 0,
   "metadata": {
    "application/vnd.databricks.v1+cell": {
     "inputWidgets": {},
     "nuid": "16d8aafb-6864-49d0-8792-a177d165a27f",
     "showTitle": false,
     "title": ""
    }
   },
   "outputs": [
    {
     "data": {
      "text/html": [
       "<style scoped>\n",
       "  .table-result-container {\n",
       "    max-height: 300px;\n",
       "    overflow: auto;\n",
       "  }\n",
       "  table, th, td {\n",
       "    border: 1px solid black;\n",
       "    border-collapse: collapse;\n",
       "  }\n",
       "  th, td {\n",
       "    padding: 5px;\n",
       "  }\n",
       "  th {\n",
       "    text-align: left;\n",
       "  }\n",
       "</style><div class='table-result-container'><table class='table-result'><thead style='background-color: white'><tr><th>bookid</th><th>facid</th><th>memid</th><th>starttime</th><th>slots</th></tr></thead><tbody><tr><td>0</td><td>3</td><td>1</td><td>2012-07-03 11:00:00</td><td>2</td></tr><tr><td>1</td><td>4</td><td>1</td><td>2012-07-03 08:00:00</td><td>2</td></tr><tr><td>2</td><td>6</td><td>0</td><td>2012-07-03 18:00:00</td><td>2</td></tr></tbody></table></div>"
      ]
     },
     "metadata": {
      "application/vnd.databricks.v1+output": {
       "addedWidgets": {},
       "aggData": [],
       "aggError": "",
       "aggOverflow": false,
       "aggSchema": [],
       "aggSeriesLimitReached": false,
       "aggType": "",
       "arguments": {},
       "columnCustomDisplayInfos": {},
       "data": [
        [
         0,
         3,
         1,
         "2012-07-03 11:00:00",
         2
        ],
        [
         1,
         4,
         1,
         "2012-07-03 08:00:00",
         2
        ],
        [
         2,
         6,
         0,
         "2012-07-03 18:00:00",
         2
        ]
       ],
       "datasetInfos": [],
       "dbfsResultPath": null,
       "isJsonSchema": true,
       "overflow": false,
       "plotOptions": {
        "customPlotOptions": {},
        "displayType": "table",
        "pivotAggregation": null,
        "pivotColumns": [],
        "xColumns": [],
        "yColumns": []
       },
       "removedWidgets": [],
       "schema": [
        {
         "metadata": "{}",
         "name": "bookid",
         "type": "\"integer\""
        },
        {
         "metadata": "{}",
         "name": "facid",
         "type": "\"integer\""
        },
        {
         "metadata": "{}",
         "name": "memid",
         "type": "\"integer\""
        },
        {
         "metadata": "{}",
         "name": "starttime",
         "type": "\"string\""
        },
        {
         "metadata": "{}",
         "name": "slots",
         "type": "\"integer\""
        }
       ],
       "type": "table"
      }
     },
     "output_type": "display_data"
    }
   ],
   "source": [
    "%sql\n",
    "select * from bookings limit 3"
   ]
  },
  {
   "cell_type": "markdown",
   "metadata": {
    "application/vnd.databricks.v1+cell": {
     "inputWidgets": {},
     "nuid": "bbc9ff8f-b99c-42e1-b559-c7699b882681",
     "showTitle": false,
     "title": ""
    }
   },
   "source": [
    "#### Q1: Some of the facilities charge a fee to members, but some do not. Please list the names of the facilities that do."
   ]
  },
  {
   "cell_type": "code",
   "execution_count": 0,
   "metadata": {
    "application/vnd.databricks.v1+cell": {
     "inputWidgets": {},
     "nuid": "6786f9bc-66b0-4319-bfef-ee825a6a8e76",
     "showTitle": false,
     "title": ""
    }
   },
   "outputs": [
    {
     "data": {
      "text/html": [
       "<style scoped>\n",
       "  .table-result-container {\n",
       "    max-height: 300px;\n",
       "    overflow: auto;\n",
       "  }\n",
       "  table, th, td {\n",
       "    border: 1px solid black;\n",
       "    border-collapse: collapse;\n",
       "  }\n",
       "  th, td {\n",
       "    padding: 5px;\n",
       "  }\n",
       "  th {\n",
       "    text-align: left;\n",
       "  }\n",
       "</style><div class='table-result-container'><table class='table-result'><thead style='background-color: white'><tr><th>facid</th><th>name</th><th>membercost</th><th>guestcost</th><th>initialoutlay</th><th>monthlymaintenance</th></tr></thead><tbody><tr><td>0</td><td>Tennis Court 1</td><td>5.0</td><td>25.0</td><td>10000</td><td>200</td></tr><tr><td>1</td><td>Tennis Court 2</td><td>5.0</td><td>25.0</td><td>8000</td><td>200</td></tr><tr><td>4</td><td>Massage Room 1</td><td>9.9</td><td>80.0</td><td>4000</td><td>3000</td></tr><tr><td>5</td><td>Massage Room 2</td><td>9.9</td><td>80.0</td><td>4000</td><td>3000</td></tr><tr><td>6</td><td>Squash Court</td><td>3.5</td><td>17.5</td><td>5000</td><td>80</td></tr></tbody></table></div>"
      ]
     },
     "metadata": {
      "application/vnd.databricks.v1+output": {
       "addedWidgets": {},
       "aggData": [],
       "aggError": "",
       "aggOverflow": false,
       "aggSchema": [],
       "aggSeriesLimitReached": false,
       "aggType": "",
       "arguments": {},
       "columnCustomDisplayInfos": {},
       "data": [
        [
         0,
         "Tennis Court 1",
         5,
         25,
         10000,
         200
        ],
        [
         1,
         "Tennis Court 2",
         5,
         25,
         8000,
         200
        ],
        [
         4,
         "Massage Room 1",
         9.9,
         80,
         4000,
         3000
        ],
        [
         5,
         "Massage Room 2",
         9.9,
         80,
         4000,
         3000
        ],
        [
         6,
         "Squash Court",
         3.5,
         17.5,
         5000,
         80
        ]
       ],
       "datasetInfos": [],
       "dbfsResultPath": null,
       "isJsonSchema": true,
       "overflow": false,
       "plotOptions": {
        "customPlotOptions": {},
        "displayType": "table",
        "pivotAggregation": null,
        "pivotColumns": [],
        "xColumns": [],
        "yColumns": []
       },
       "removedWidgets": [],
       "schema": [
        {
         "metadata": "{}",
         "name": "facid",
         "type": "\"integer\""
        },
        {
         "metadata": "{}",
         "name": "name",
         "type": "\"string\""
        },
        {
         "metadata": "{}",
         "name": "membercost",
         "type": "\"double\""
        },
        {
         "metadata": "{}",
         "name": "guestcost",
         "type": "\"double\""
        },
        {
         "metadata": "{}",
         "name": "initialoutlay",
         "type": "\"integer\""
        },
        {
         "metadata": "{}",
         "name": "monthlymaintenance",
         "type": "\"integer\""
        }
       ],
       "type": "table"
      }
     },
     "output_type": "display_data"
    }
   ],
   "source": [
    "%sql\n",
    "select * from facilities\n",
    "where membercost > 0;"
   ]
  },
  {
   "cell_type": "markdown",
   "metadata": {
    "application/vnd.databricks.v1+cell": {
     "inputWidgets": {},
     "nuid": "86559b2f-91f2-4985-9585-17e18c34a6e2",
     "showTitle": false,
     "title": ""
    }
   },
   "source": [
    "####  Q2: How many facilities do not charge a fee to members?"
   ]
  },
  {
   "cell_type": "code",
   "execution_count": 0,
   "metadata": {
    "application/vnd.databricks.v1+cell": {
     "inputWidgets": {},
     "nuid": "5dd554ea-30db-4423-92c8-44900409cd64",
     "showTitle": false,
     "title": ""
    }
   },
   "outputs": [
    {
     "data": {
      "text/html": [
       "<style scoped>\n",
       "  .table-result-container {\n",
       "    max-height: 300px;\n",
       "    overflow: auto;\n",
       "  }\n",
       "  table, th, td {\n",
       "    border: 1px solid black;\n",
       "    border-collapse: collapse;\n",
       "  }\n",
       "  th, td {\n",
       "    padding: 5px;\n",
       "  }\n",
       "  th {\n",
       "    text-align: left;\n",
       "  }\n",
       "</style><div class='table-result-container'><table class='table-result'><thead style='background-color: white'><tr><th>count(1)</th></tr></thead><tbody><tr><td>4</td></tr></tbody></table></div>"
      ]
     },
     "metadata": {
      "application/vnd.databricks.v1+output": {
       "addedWidgets": {},
       "aggData": [],
       "aggError": "",
       "aggOverflow": false,
       "aggSchema": [],
       "aggSeriesLimitReached": false,
       "aggType": "",
       "arguments": {},
       "columnCustomDisplayInfos": {},
       "data": [
        [
         4
        ]
       ],
       "datasetInfos": [],
       "dbfsResultPath": null,
       "isJsonSchema": true,
       "overflow": false,
       "plotOptions": {
        "customPlotOptions": {},
        "displayType": "table",
        "pivotAggregation": null,
        "pivotColumns": [],
        "xColumns": [],
        "yColumns": []
       },
       "removedWidgets": [],
       "schema": [
        {
         "metadata": "{}",
         "name": "count(1)",
         "type": "\"long\""
        }
       ],
       "type": "table"
      }
     },
     "output_type": "display_data"
    }
   ],
   "source": [
    "%sql\n",
    "select count(*) from facilities\n",
    "where membercost = 0;"
   ]
  },
  {
   "cell_type": "markdown",
   "metadata": {
    "application/vnd.databricks.v1+cell": {
     "inputWidgets": {},
     "nuid": "8de07f51-5651-4ba2-8cbe-01de791f6377",
     "showTitle": false,
     "title": ""
    }
   },
   "source": [
    "#### Q3: How can you produce a list of facilities that charge a fee to members, where the fee is less than 20% of the facility's monthly maintenance cost? \n",
    "#### Return the facid, facility name, member cost, and monthly maintenance of the facilities in question."
   ]
  },
  {
   "cell_type": "code",
   "execution_count": 0,
   "metadata": {
    "application/vnd.databricks.v1+cell": {
     "inputWidgets": {},
     "nuid": "37a3bc28-a42e-4214-a90a-7560446df408",
     "showTitle": false,
     "title": ""
    }
   },
   "outputs": [
    {
     "data": {
      "text/html": [
       "<style scoped>\n",
       "  .table-result-container {\n",
       "    max-height: 300px;\n",
       "    overflow: auto;\n",
       "  }\n",
       "  table, th, td {\n",
       "    border: 1px solid black;\n",
       "    border-collapse: collapse;\n",
       "  }\n",
       "  th, td {\n",
       "    padding: 5px;\n",
       "  }\n",
       "  th {\n",
       "    text-align: left;\n",
       "  }\n",
       "</style><div class='table-result-container'><table class='table-result'><thead style='background-color: white'><tr><th>facid</th><th>name</th><th>membercost</th><th>monthlymaintenance</th></tr></thead><tbody><tr><td>0</td><td>Tennis Court 1</td><td>5.0</td><td>200</td></tr><tr><td>1</td><td>Tennis Court 2</td><td>5.0</td><td>200</td></tr><tr><td>4</td><td>Massage Room 1</td><td>9.9</td><td>3000</td></tr><tr><td>5</td><td>Massage Room 2</td><td>9.9</td><td>3000</td></tr><tr><td>6</td><td>Squash Court</td><td>3.5</td><td>80</td></tr></tbody></table></div>"
      ]
     },
     "metadata": {
      "application/vnd.databricks.v1+output": {
       "addedWidgets": {},
       "aggData": [],
       "aggError": "",
       "aggOverflow": false,
       "aggSchema": [],
       "aggSeriesLimitReached": false,
       "aggType": "",
       "arguments": {},
       "columnCustomDisplayInfos": {},
       "data": [
        [
         0,
         "Tennis Court 1",
         5,
         200
        ],
        [
         1,
         "Tennis Court 2",
         5,
         200
        ],
        [
         4,
         "Massage Room 1",
         9.9,
         3000
        ],
        [
         5,
         "Massage Room 2",
         9.9,
         3000
        ],
        [
         6,
         "Squash Court",
         3.5,
         80
        ]
       ],
       "datasetInfos": [],
       "dbfsResultPath": null,
       "isJsonSchema": true,
       "overflow": false,
       "plotOptions": {
        "customPlotOptions": {},
        "displayType": "table",
        "pivotAggregation": null,
        "pivotColumns": [],
        "xColumns": [],
        "yColumns": []
       },
       "removedWidgets": [],
       "schema": [
        {
         "metadata": "{}",
         "name": "facid",
         "type": "\"integer\""
        },
        {
         "metadata": "{}",
         "name": "name",
         "type": "\"string\""
        },
        {
         "metadata": "{}",
         "name": "membercost",
         "type": "\"double\""
        },
        {
         "metadata": "{}",
         "name": "monthlymaintenance",
         "type": "\"integer\""
        }
       ],
       "type": "table"
      }
     },
     "output_type": "display_data"
    }
   ],
   "source": [
    "%sql\n",
    "select facid, name, membercost, monthlymaintenance\n",
    "from facilities\n",
    "where membercost > 0 \n",
    "and membercost < (monthlymaintenance*0.2);"
   ]
  },
  {
   "cell_type": "markdown",
   "metadata": {
    "application/vnd.databricks.v1+cell": {
     "inputWidgets": {},
     "nuid": "96cd49cf-f4a9-49f7-917f-164e2ac2c4cf",
     "showTitle": false,
     "title": ""
    }
   },
   "source": [
    "#### Q4: How can you retrieve the details of facilities with ID 1 and 5? Write the query without using the OR operator."
   ]
  },
  {
   "cell_type": "code",
   "execution_count": 0,
   "metadata": {
    "application/vnd.databricks.v1+cell": {
     "inputWidgets": {},
     "nuid": "8f16b482-5aee-4d10-8d26-9270a80ebbeb",
     "showTitle": false,
     "title": ""
    }
   },
   "outputs": [
    {
     "data": {
      "text/html": [
       "<style scoped>\n",
       "  .table-result-container {\n",
       "    max-height: 300px;\n",
       "    overflow: auto;\n",
       "  }\n",
       "  table, th, td {\n",
       "    border: 1px solid black;\n",
       "    border-collapse: collapse;\n",
       "  }\n",
       "  th, td {\n",
       "    padding: 5px;\n",
       "  }\n",
       "  th {\n",
       "    text-align: left;\n",
       "  }\n",
       "</style><div class='table-result-container'><table class='table-result'><thead style='background-color: white'><tr><th>facid</th><th>name</th><th>membercost</th><th>guestcost</th><th>initialoutlay</th><th>monthlymaintenance</th></tr></thead><tbody><tr><td>1</td><td>Tennis Court 2</td><td>5.0</td><td>25.0</td><td>8000</td><td>200</td></tr><tr><td>5</td><td>Massage Room 2</td><td>9.9</td><td>80.0</td><td>4000</td><td>3000</td></tr></tbody></table></div>"
      ]
     },
     "metadata": {
      "application/vnd.databricks.v1+output": {
       "addedWidgets": {},
       "aggData": [],
       "aggError": "",
       "aggOverflow": false,
       "aggSchema": [],
       "aggSeriesLimitReached": false,
       "aggType": "",
       "arguments": {},
       "columnCustomDisplayInfos": {},
       "data": [
        [
         1,
         "Tennis Court 2",
         5,
         25,
         8000,
         200
        ],
        [
         5,
         "Massage Room 2",
         9.9,
         80,
         4000,
         3000
        ]
       ],
       "datasetInfos": [],
       "dbfsResultPath": null,
       "isJsonSchema": true,
       "overflow": false,
       "plotOptions": {
        "customPlotOptions": {},
        "displayType": "table",
        "pivotAggregation": null,
        "pivotColumns": [],
        "xColumns": [],
        "yColumns": []
       },
       "removedWidgets": [],
       "schema": [
        {
         "metadata": "{}",
         "name": "facid",
         "type": "\"integer\""
        },
        {
         "metadata": "{}",
         "name": "name",
         "type": "\"string\""
        },
        {
         "metadata": "{}",
         "name": "membercost",
         "type": "\"double\""
        },
        {
         "metadata": "{}",
         "name": "guestcost",
         "type": "\"double\""
        },
        {
         "metadata": "{}",
         "name": "initialoutlay",
         "type": "\"integer\""
        },
        {
         "metadata": "{}",
         "name": "monthlymaintenance",
         "type": "\"integer\""
        }
       ],
       "type": "table"
      }
     },
     "output_type": "display_data"
    }
   ],
   "source": [
    "%sql\n",
    "select * from facilities\n",
    "where facid in (1,5);"
   ]
  },
  {
   "cell_type": "markdown",
   "metadata": {
    "application/vnd.databricks.v1+cell": {
     "inputWidgets": {},
     "nuid": "cd8ad345-2798-41c8-ad3e-d96527c80c3a",
     "showTitle": false,
     "title": ""
    }
   },
   "source": [
    "#### Q5: How can you produce a list of facilities, with each labelled as 'cheap' or 'expensive', depending on if their monthly maintenance cost is more than $100? \n",
    "#### Return the name and monthly maintenance of the facilities in question."
   ]
  },
  {
   "cell_type": "code",
   "execution_count": 0,
   "metadata": {
    "application/vnd.databricks.v1+cell": {
     "inputWidgets": {},
     "nuid": "dc924dff-66fa-4670-a322-e16d2fe07a94",
     "showTitle": false,
     "title": ""
    }
   },
   "outputs": [
    {
     "data": {
      "text/html": [
       "<style scoped>\n",
       "  .table-result-container {\n",
       "    max-height: 300px;\n",
       "    overflow: auto;\n",
       "  }\n",
       "  table, th, td {\n",
       "    border: 1px solid black;\n",
       "    border-collapse: collapse;\n",
       "  }\n",
       "  th, td {\n",
       "    padding: 5px;\n",
       "  }\n",
       "  th {\n",
       "    text-align: left;\n",
       "  }\n",
       "</style><div class='table-result-container'><table class='table-result'><thead style='background-color: white'><tr><th>name</th><th>monthlymaintenance</th><th>costlabel</th></tr></thead><tbody><tr><td>Tennis Court 1</td><td>200</td><td>expensive</td></tr><tr><td>Tennis Court 2</td><td>200</td><td>expensive</td></tr><tr><td>Badminton Court</td><td>50</td><td>cheap</td></tr><tr><td>Table Tennis</td><td>10</td><td>cheap</td></tr><tr><td>Massage Room 1</td><td>3000</td><td>expensive</td></tr><tr><td>Massage Room 2</td><td>3000</td><td>expensive</td></tr><tr><td>Squash Court</td><td>80</td><td>cheap</td></tr><tr><td>Snooker Table</td><td>15</td><td>cheap</td></tr><tr><td>Pool Table</td><td>15</td><td>cheap</td></tr></tbody></table></div>"
      ]
     },
     "metadata": {
      "application/vnd.databricks.v1+output": {
       "addedWidgets": {},
       "aggData": [],
       "aggError": "",
       "aggOverflow": false,
       "aggSchema": [],
       "aggSeriesLimitReached": false,
       "aggType": "",
       "arguments": {},
       "columnCustomDisplayInfos": {},
       "data": [
        [
         "Tennis Court 1",
         200,
         "expensive"
        ],
        [
         "Tennis Court 2",
         200,
         "expensive"
        ],
        [
         "Badminton Court",
         50,
         "cheap"
        ],
        [
         "Table Tennis",
         10,
         "cheap"
        ],
        [
         "Massage Room 1",
         3000,
         "expensive"
        ],
        [
         "Massage Room 2",
         3000,
         "expensive"
        ],
        [
         "Squash Court",
         80,
         "cheap"
        ],
        [
         "Snooker Table",
         15,
         "cheap"
        ],
        [
         "Pool Table",
         15,
         "cheap"
        ]
       ],
       "datasetInfos": [],
       "dbfsResultPath": null,
       "isJsonSchema": true,
       "overflow": false,
       "plotOptions": {
        "customPlotOptions": {},
        "displayType": "table",
        "pivotAggregation": null,
        "pivotColumns": [],
        "xColumns": [],
        "yColumns": []
       },
       "removedWidgets": [],
       "schema": [
        {
         "metadata": "{}",
         "name": "name",
         "type": "\"string\""
        },
        {
         "metadata": "{}",
         "name": "monthlymaintenance",
         "type": "\"integer\""
        },
        {
         "metadata": "{}",
         "name": "costlabel",
         "type": "\"string\""
        }
       ],
       "type": "table"
      }
     },
     "output_type": "display_data"
    }
   ],
   "source": [
    "%sql\n",
    "select name, monthlymaintenance,\n",
    "case \n",
    "  when monthlymaintenance > 100 then 'expensive'\n",
    "  else 'cheap'\n",
    "end as costlabel\n",
    "from facilities;"
   ]
  },
  {
   "cell_type": "markdown",
   "metadata": {
    "application/vnd.databricks.v1+cell": {
     "inputWidgets": {},
     "nuid": "3abf54b0-3c20-4da8-890d-7f96b8d9fcbe",
     "showTitle": false,
     "title": ""
    }
   },
   "source": [
    "#### Q6: You'd like to get the first and last name of the last member(s) who signed up. Do not use the LIMIT clause for your solution."
   ]
  },
  {
   "cell_type": "code",
   "execution_count": 0,
   "metadata": {
    "application/vnd.databricks.v1+cell": {
     "inputWidgets": {},
     "nuid": "d4c39fc1-9443-432e-a00a-9e5f705fe97f",
     "showTitle": false,
     "title": ""
    }
   },
   "outputs": [
    {
     "data": {
      "text/html": [
       "<style scoped>\n",
       "  .table-result-container {\n",
       "    max-height: 300px;\n",
       "    overflow: auto;\n",
       "  }\n",
       "  table, th, td {\n",
       "    border: 1px solid black;\n",
       "    border-collapse: collapse;\n",
       "  }\n",
       "  th, td {\n",
       "    padding: 5px;\n",
       "  }\n",
       "  th {\n",
       "    text-align: left;\n",
       "  }\n",
       "</style><div class='table-result-container'><table class='table-result'><thead style='background-color: white'><tr><th>firstname</th><th>surname</th></tr></thead><tbody><tr><td>Darren</td><td>Smith</td></tr></tbody></table></div>"
      ]
     },
     "metadata": {
      "application/vnd.databricks.v1+output": {
       "addedWidgets": {},
       "aggData": [],
       "aggError": "",
       "aggOverflow": false,
       "aggSchema": [],
       "aggSeriesLimitReached": false,
       "aggType": "",
       "arguments": {},
       "columnCustomDisplayInfos": {},
       "data": [
        [
         "Darren",
         "Smith"
        ]
       ],
       "datasetInfos": [],
       "dbfsResultPath": null,
       "isJsonSchema": true,
       "overflow": false,
       "plotOptions": {
        "customPlotOptions": {},
        "displayType": "table",
        "pivotAggregation": null,
        "pivotColumns": [],
        "xColumns": [],
        "yColumns": []
       },
       "removedWidgets": [],
       "schema": [
        {
         "metadata": "{}",
         "name": "firstname",
         "type": "\"string\""
        },
        {
         "metadata": "{}",
         "name": "surname",
         "type": "\"string\""
        }
       ],
       "type": "table"
      }
     },
     "output_type": "display_data"
    }
   ],
   "source": [
    "%sql\n",
    "select firstname, surname from members\n",
    "where joindate = (\n",
    "  select max(joindate) from members\n",
    "  );"
   ]
  },
  {
   "cell_type": "markdown",
   "metadata": {
    "application/vnd.databricks.v1+cell": {
     "inputWidgets": {},
     "nuid": "70216e9b-e94f-4de0-b568-45d88f0d20a6",
     "showTitle": false,
     "title": ""
    }
   },
   "source": [
    "####  Q7: How can you produce a list of all members who have used a tennis court?\n",
    "- Include in your output the name of the court, and the name of the member formatted as a single column. \n",
    "- Ensure no duplicate data\n",
    "- Also order by the member name."
   ]
  },
  {
   "cell_type": "code",
   "execution_count": 0,
   "metadata": {
    "application/vnd.databricks.v1+cell": {
     "inputWidgets": {},
     "nuid": "5980b6c1-1f4e-4a60-b0b4-12dfe93bd181",
     "showTitle": false,
     "title": ""
    }
   },
   "outputs": [
    {
     "data": {
      "text/html": [
       "<style scoped>\n",
       "  .table-result-container {\n",
       "    max-height: 300px;\n",
       "    overflow: auto;\n",
       "  }\n",
       "  table, th, td {\n",
       "    border: 1px solid black;\n",
       "    border-collapse: collapse;\n",
       "  }\n",
       "  th, td {\n",
       "    padding: 5px;\n",
       "  }\n",
       "  th {\n",
       "    text-align: left;\n",
       "  }\n",
       "</style><div class='table-result-container'><table class='table-result'><thead style='background-color: white'><tr><th>surname</th><th>firstname</th></tr></thead><tbody><tr><td>Farrell</td><td>David</td></tr><tr><td>Jones</td><td>Douglas</td></tr><tr><td>Rumney</td><td>Henrietta</td></tr><tr><td>Baker</td><td>Anne</td></tr><tr><td>Coplin</td><td>Joan</td></tr><tr><td>Smith</td><td>Darren</td></tr><tr><td>Farrell</td><td>Jemima</td></tr><tr><td>Tracy</td><td>Burton</td></tr><tr><td>Baker</td><td>Timothy</td></tr><tr><td>Rownam</td><td>Tim</td></tr><tr><td>Genting</td><td>Matthew</td></tr><tr><td>Butters</td><td>Gerald</td></tr><tr><td>Bader</td><td>Florence</td></tr><tr><td>Stibbons</td><td>Ponder</td></tr><tr><td>Pinker</td><td>David</td></tr><tr><td>Hunt</td><td>John</td></tr><tr><td>Joplette</td><td>Janice</td></tr><tr><td>Boothe</td><td>Tim</td></tr><tr><td>Dare</td><td>Nancy</td></tr><tr><td>Owen</td><td>Charles</td></tr><tr><td>Sarwin</td><td>Ramnaresh</td></tr><tr><td>Jones</td><td>David</td></tr><tr><td>Smith</td><td>Jack</td></tr><tr><td>Smith</td><td>Tracy</td></tr><tr><td>Purview</td><td>Millicent</td></tr><tr><td>GUEST</td><td>GUEST</td></tr><tr><td>Crumpet</td><td>Erica</td></tr></tbody></table></div>"
      ]
     },
     "metadata": {
      "application/vnd.databricks.v1+output": {
       "addedWidgets": {},
       "aggData": [],
       "aggError": "",
       "aggOverflow": false,
       "aggSchema": [],
       "aggSeriesLimitReached": false,
       "aggType": "",
       "arguments": {},
       "columnCustomDisplayInfos": {},
       "data": [
        [
         "Farrell",
         "David"
        ],
        [
         "Jones",
         "Douglas"
        ],
        [
         "Rumney",
         "Henrietta"
        ],
        [
         "Baker",
         "Anne"
        ],
        [
         "Coplin",
         "Joan"
        ],
        [
         "Smith",
         "Darren"
        ],
        [
         "Farrell",
         "Jemima"
        ],
        [
         "Tracy",
         "Burton"
        ],
        [
         "Baker",
         "Timothy"
        ],
        [
         "Rownam",
         "Tim"
        ],
        [
         "Genting",
         "Matthew"
        ],
        [
         "Butters",
         "Gerald"
        ],
        [
         "Bader",
         "Florence"
        ],
        [
         "Stibbons",
         "Ponder"
        ],
        [
         "Pinker",
         "David"
        ],
        [
         "Hunt",
         "John"
        ],
        [
         "Joplette",
         "Janice"
        ],
        [
         "Boothe",
         "Tim"
        ],
        [
         "Dare",
         "Nancy"
        ],
        [
         "Owen",
         "Charles"
        ],
        [
         "Sarwin",
         "Ramnaresh"
        ],
        [
         "Jones",
         "David"
        ],
        [
         "Smith",
         "Jack"
        ],
        [
         "Smith",
         "Tracy"
        ],
        [
         "Purview",
         "Millicent"
        ],
        [
         "GUEST",
         "GUEST"
        ],
        [
         "Crumpet",
         "Erica"
        ]
       ],
       "datasetInfos": [],
       "dbfsResultPath": null,
       "isJsonSchema": true,
       "overflow": false,
       "plotOptions": {
        "customPlotOptions": {},
        "displayType": "table",
        "pivotAggregation": null,
        "pivotColumns": [],
        "xColumns": [],
        "yColumns": []
       },
       "removedWidgets": [],
       "schema": [
        {
         "metadata": "{}",
         "name": "surname",
         "type": "\"string\""
        },
        {
         "metadata": "{}",
         "name": "firstname",
         "type": "\"string\""
        }
       ],
       "type": "table"
      }
     },
     "output_type": "display_data"
    }
   ],
   "source": [
    "%sql\n",
    "with cte as (\n",
    "  select distinct b.memid from bookings b\n",
    "  inner join members m on b.memid = m.memid\n",
    "  inner join facilities f on b.facid = f.facid\n",
    "  where f.name like '%Tennis Court%'\n",
    ")\n",
    "select surname, firstname from members m\n",
    "inner join cte c on m.memid = c.memid"
   ]
  },
  {
   "cell_type": "markdown",
   "metadata": {
    "application/vnd.databricks.v1+cell": {
     "inputWidgets": {},
     "nuid": "32ea64ae-ee9b-47c9-8234-8079149f04ac",
     "showTitle": false,
     "title": ""
    }
   },
   "source": [
    "#### Q8: How can you produce a list of bookings on the day of 2012-09-14 which will cost the member (or guest) more than $30? \n",
    "\n",
    "- Remember that guests have different costs to members (the listed costs are per half-hour 'slot')\n",
    "- The guest user's ID is always 0. \n",
    "\n",
    "#### Include in your output the name of the facility, the name of the member formatted as a single column, and the cost.\n",
    "\n",
    "- Order by descending cost, and do not use any subqueries."
   ]
  },
  {
   "cell_type": "code",
   "execution_count": 0,
   "metadata": {
    "application/vnd.databricks.v1+cell": {
     "inputWidgets": {},
     "nuid": "1ce9864c-2941-4af8-9bb1-fcb377ab7d7d",
     "showTitle": false,
     "title": ""
    }
   },
   "outputs": [
    {
     "data": {
      "text/html": [
       "<style scoped>\n",
       "  .table-result-container {\n",
       "    max-height: 300px;\n",
       "    overflow: auto;\n",
       "  }\n",
       "  table, th, td {\n",
       "    border: 1px solid black;\n",
       "    border-collapse: collapse;\n",
       "  }\n",
       "  th, td {\n",
       "    padding: 5px;\n",
       "  }\n",
       "  th {\n",
       "    text-align: left;\n",
       "  }\n",
       "</style><div class='table-result-container'><table class='table-result'><thead style='background-color: white'><tr><th>facilityname</th><th>membername</th><th>totalcost</th></tr></thead><tbody><tr><td>Massage Room 2</td><td>GUEST GUEST</td><td>320.0</td></tr></tbody></table></div>"
      ]
     },
     "metadata": {
      "application/vnd.databricks.v1+output": {
       "addedWidgets": {},
       "aggData": [],
       "aggError": "",
       "aggOverflow": false,
       "aggSchema": [],
       "aggSeriesLimitReached": false,
       "aggType": "",
       "arguments": {},
       "columnCustomDisplayInfos": {},
       "data": [
        [
         "Massage Room 2",
         "GUEST GUEST",
         320
        ]
       ],
       "datasetInfos": [],
       "dbfsResultPath": null,
       "isJsonSchema": true,
       "overflow": false,
       "plotOptions": {
        "customPlotOptions": {},
        "displayType": "table",
        "pivotAggregation": null,
        "pivotColumns": [],
        "xColumns": [],
        "yColumns": []
       },
       "removedWidgets": [],
       "schema": [
        {
         "metadata": "{}",
         "name": "facilityname",
         "type": "\"string\""
        },
        {
         "metadata": "{}",
         "name": "membername",
         "type": "\"string\""
        },
        {
         "metadata": "{}",
         "name": "totalcost",
         "type": "\"double\""
        }
       ],
       "type": "table"
      }
     },
     "output_type": "display_data"
    }
   ],
   "source": [
    "%sql\n",
    "select f.name as facilityname,\n",
    "concat(m.firstname, ' ', m.surname) as membername,\n",
    "case \n",
    "  when b.memid = 0 then f.guestcost*b.slots--guest\n",
    "  else f.membercost*b.slots\n",
    "end as totalcost\n",
    "from bookings b\n",
    "inner join facilities f on b.facid = f.facid\n",
    "inner join members m on b.memid = m.memid\n",
    "where b.starttime between '2012-09-14 00:00:00' and '2012-09-14 23:59:59'\n",
    "and (case \n",
    "  when b.memid = 0 then f.guestcost*b.slots--guest\n",
    "  else f.membercost*b.slots\n",
    "end) > 300\n",
    "order by 3 desc"
   ]
  },
  {
   "cell_type": "markdown",
   "metadata": {
    "application/vnd.databricks.v1+cell": {
     "inputWidgets": {},
     "nuid": "b14f4c04-3006-4e41-a370-7b80c21ccf89",
     "showTitle": false,
     "title": ""
    }
   },
   "source": [
    "#### Q9: This time, produce the same result as in Q8, but using a subquery."
   ]
  },
  {
   "cell_type": "code",
   "execution_count": 0,
   "metadata": {
    "application/vnd.databricks.v1+cell": {
     "inputWidgets": {},
     "nuid": "7ea25f98-f707-45ae-84a7-3b8a6c2594bc",
     "showTitle": false,
     "title": ""
    }
   },
   "outputs": [
    {
     "data": {
      "text/html": [
       "<style scoped>\n",
       "  .table-result-container {\n",
       "    max-height: 300px;\n",
       "    overflow: auto;\n",
       "  }\n",
       "  table, th, td {\n",
       "    border: 1px solid black;\n",
       "    border-collapse: collapse;\n",
       "  }\n",
       "  th, td {\n",
       "    padding: 5px;\n",
       "  }\n",
       "  th {\n",
       "    text-align: left;\n",
       "  }\n",
       "</style><div class='table-result-container'><table class='table-result'><thead style='background-color: white'><tr><th>facilityname</th><th>membername</th><th>totalcost</th></tr></thead><tbody><tr><td>Massage Room 2</td><td>GUEST GUEST</td><td>320.0</td></tr></tbody></table></div>"
      ]
     },
     "metadata": {
      "application/vnd.databricks.v1+output": {
       "addedWidgets": {},
       "aggData": [],
       "aggError": "",
       "aggOverflow": false,
       "aggSchema": [],
       "aggSeriesLimitReached": false,
       "aggType": "",
       "arguments": {},
       "columnCustomDisplayInfos": {},
       "data": [
        [
         "Massage Room 2",
         "GUEST GUEST",
         320
        ]
       ],
       "datasetInfos": [],
       "dbfsResultPath": null,
       "isJsonSchema": true,
       "overflow": false,
       "plotOptions": {
        "customPlotOptions": {},
        "displayType": "table",
        "pivotAggregation": null,
        "pivotColumns": [],
        "xColumns": [],
        "yColumns": []
       },
       "removedWidgets": [],
       "schema": [
        {
         "metadata": "{}",
         "name": "facilityname",
         "type": "\"string\""
        },
        {
         "metadata": "{}",
         "name": "membername",
         "type": "\"string\""
        },
        {
         "metadata": "{}",
         "name": "totalcost",
         "type": "\"double\""
        }
       ],
       "type": "table"
      }
     },
     "output_type": "display_data"
    }
   ],
   "source": [
    "%sql\n",
    "with cte as (\n",
    "  select f.name as facilityname,\n",
    "  concat(m.firstname, ' ', m.surname) as membername,\n",
    "  case \n",
    "    when b.memid = 0 then f.guestcost*b.slots--guest\n",
    "    else f.membercost*b.slots\n",
    "  end as totalcost\n",
    "  from bookings b\n",
    "  inner join facilities f on b.facid = f.facid\n",
    "  inner join members m on b.memid = m.memid\n",
    "  where b.starttime between '2012-09-14 00:00:00' and '2012-09-14 23:59:59'\n",
    ")\n",
    "select * from cte c\n",
    "where c.totalcost > 300\n",
    "order by c.membername"
   ]
  },
  {
   "cell_type": "markdown",
   "metadata": {
    "application/vnd.databricks.v1+cell": {
     "inputWidgets": {},
     "nuid": "48cd464a-16fa-48b9-a76a-2f95719646a7",
     "showTitle": false,
     "title": ""
    }
   },
   "source": [
    "#### Q10: Produce a list of facilities with a total revenue less than 1000.\n",
    "- The output should have facility name and total revenue, sorted by revenue. \n",
    "- Remember that there's a different cost for guests and members!"
   ]
  },
  {
   "cell_type": "code",
   "execution_count": 0,
   "metadata": {
    "application/vnd.databricks.v1+cell": {
     "inputWidgets": {},
     "nuid": "fcf4916b-72da-4a2f-84d2-ec8789ca2960",
     "showTitle": false,
     "title": ""
    }
   },
   "outputs": [
    {
     "data": {
      "text/html": [
       "<style scoped>\n",
       "  .table-result-container {\n",
       "    max-height: 300px;\n",
       "    overflow: auto;\n",
       "  }\n",
       "  table, th, td {\n",
       "    border: 1px solid black;\n",
       "    border-collapse: collapse;\n",
       "  }\n",
       "  th, td {\n",
       "    padding: 5px;\n",
       "  }\n",
       "  th {\n",
       "    text-align: left;\n",
       "  }\n",
       "</style><div class='table-result-container'><table class='table-result'><thead style='background-color: white'><tr><th>name</th><th>totalrevenue</th></tr></thead><tbody><tr><td>Table Tennis</td><td>180.0</td></tr><tr><td>Snooker Table</td><td>240.0</td></tr><tr><td>Pool Table</td><td>270.0</td></tr></tbody></table></div>"
      ]
     },
     "metadata": {
      "application/vnd.databricks.v1+output": {
       "addedWidgets": {},
       "aggData": [],
       "aggError": "",
       "aggOverflow": false,
       "aggSchema": [],
       "aggSeriesLimitReached": false,
       "aggType": "",
       "arguments": {},
       "columnCustomDisplayInfos": {},
       "data": [
        [
         "Table Tennis",
         180
        ],
        [
         "Snooker Table",
         240
        ],
        [
         "Pool Table",
         270
        ]
       ],
       "datasetInfos": [],
       "dbfsResultPath": null,
       "isJsonSchema": true,
       "overflow": false,
       "plotOptions": {
        "customPlotOptions": {},
        "displayType": "table",
        "pivotAggregation": null,
        "pivotColumns": [],
        "xColumns": [],
        "yColumns": []
       },
       "removedWidgets": [],
       "schema": [
        {
         "metadata": "{}",
         "name": "name",
         "type": "\"string\""
        },
        {
         "metadata": "{}",
         "name": "totalrevenue",
         "type": "\"double\""
        }
       ],
       "type": "table"
      }
     },
     "output_type": "display_data"
    }
   ],
   "source": [
    "%sql\n",
    "select f.name,\n",
    "sum(case \n",
    "  when b.memid = 0 then f.guestcost*b.slots--guest\n",
    "  else f.membercost*b.slots\n",
    "end) totalrevenue\n",
    "from bookings b\n",
    "inner join facilities f on b.facid = f.facid\n",
    "group by f.name\n",
    "having sum(case \n",
    "  when b.memid = 0 then f.guestcost*b.slots--guest\n",
    "  else f.membercost*b.slots\n",
    "end) < 1000\n",
    "order by 2"
   ]
  }
 ],
 "metadata": {
  "application/vnd.databricks.v1+notebook": {
   "dashboards": [],
   "language": "python",
   "notebookName": "Mini_Project_SQL_with_Spark",
   "notebookOrigID": 2412153005126497,
   "widgets": {}
  },
  "kernelspec": {
   "display_name": "Python 3",
   "language": "python",
   "name": "python3"
  },
  "language_info": {
   "codemirror_mode": {
    "name": "ipython",
    "version": 3
   },
   "file_extension": ".py",
   "mimetype": "text/x-python",
   "name": "python",
   "nbconvert_exporter": "python",
   "pygments_lexer": "ipython3",
   "version": "3.8.5"
  }
 },
 "nbformat": 4,
 "nbformat_minor": 1
}
